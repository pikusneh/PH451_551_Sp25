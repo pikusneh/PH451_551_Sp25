{
  "nbformat": 4,
  "nbformat_minor": 0,
  "metadata": {
    "colab": {
      "provenance": [],
      "include_colab_link": true
    },
    "kernelspec": {
      "name": "python3",
      "display_name": "Python 3"
    },
    "language_info": {
      "name": "python"
    }
  },
  "cells": [
    {
      "cell_type": "markdown",
      "metadata": {
        "id": "view-in-github",
        "colab_type": "text"
      },
      "source": [
        "<a href=\"https://colab.research.google.com/github/pikusneh/PH451_551_Sp25/blob/main/Resources/Saving_Files_To_Drive.ipynb\" target=\"_parent\"><img src=\"https://colab.research.google.com/assets/colab-badge.svg\" alt=\"Open In Colab\"/></a>"
      ]
    },
    {
      "cell_type": "markdown",
      "source": [
        "# Saving Files\n",
        "\n",
        "In this notebook we'll be looking at how to save files to google drive. <br>\n",
        "Note: you may want to create a new google account to do this if you <br>\n",
        "don't want to risk accidentally modifying your personal google drive."
      ],
      "metadata": {
        "id": "x_2UIHEub5MA"
      }
    },
    {
      "cell_type": "markdown",
      "source": [
        "## Step 1: Mounting google drive to colab\n",
        "\n",
        "Click on the folder icon on the far left of the screen and then click <br>\n",
        "the \"Mount Drive\" icon which looks like a folder with the google drive <br>\n",
        "triangle symbol on it. This will add the following two lines of code to <br>\n",
        "your notebook. Running these will ask permission for access to your <br>\n",
        "google account and will then connect your google drive to colab."
      ],
      "metadata": {
        "id": "9zUfQ0WEcTqQ"
      }
    },
    {
      "cell_type": "code",
      "source": [
        "from google.colab import drive\n",
        "drive.mount('/content/drive')"
      ],
      "metadata": {
        "colab": {
          "base_uri": "https://localhost:8080/"
        },
        "id": "l5JhDeOKb4HB",
        "outputId": "8ae21e0d-dd2b-465d-911e-32d68f4d4476"
      },
      "execution_count": 1,
      "outputs": [
        {
          "output_type": "stream",
          "name": "stdout",
          "text": [
            "Mounted at /content/drive\n"
          ]
        }
      ]
    },
    {
      "cell_type": "markdown",
      "source": [
        "## Step 2: Saving and loading files in drive using some common formats\n",
        "\n",
        "Note: The standard file path for your google drive is this: <br>\n",
        "`/content/drive/MyDrive/`\n",
        "\n",
        "You can further save to specific folders in your drive by adding to the <br>\n",
        "filepath."
      ],
      "metadata": {
        "id": "ljTCpnzQc5Ez"
      }
    },
    {
      "cell_type": "code",
      "execution_count": 2,
      "metadata": {
        "id": "uMi-p2wvb0IL"
      },
      "outputs": [],
      "source": [
        "import numpy as np\n",
        "import pandas as pd\n",
        "from torch import nn\n",
        "import torch"
      ]
    },
    {
      "cell_type": "code",
      "source": [
        "array = np.array((1,2,3))\n",
        "np.save('/content/drive/MyDrive/array.npy', array)\n",
        "print(array)\n",
        "array2 = np.load('/content/drive/MyDrive/array.npy')\n",
        "print(array2)"
      ],
      "metadata": {
        "colab": {
          "base_uri": "https://localhost:8080/"
        },
        "id": "n8DOY6ZQdTo6",
        "outputId": "106a4a07-96bc-499a-af62-54e9be89cc24"
      },
      "execution_count": 3,
      "outputs": [
        {
          "output_type": "stream",
          "name": "stdout",
          "text": [
            "[1 2 3]\n",
            "[1 2 3]\n"
          ]
        }
      ]
    },
    {
      "cell_type": "code",
      "source": [
        "dataframe = pd.DataFrame((1,2,3))\n",
        "dataframe.to_csv('/content/drive/MyDrive/dataframe.csv')\n",
        "print(dataframe)\n",
        "dataframe2 = pd.read_csv('/content/drive/MyDrive/dataframe.csv')\n",
        "print(dataframe2)\n",
        "# Note that writing to and reading from csv may modify the headers unless your\n",
        "# original dataframe has headers included."
      ],
      "metadata": {
        "colab": {
          "base_uri": "https://localhost:8080/"
        },
        "id": "gazpUNkEdpUL",
        "outputId": "1cb3560b-de4c-4d80-9674-90567130d252"
      },
      "execution_count": 4,
      "outputs": [
        {
          "output_type": "stream",
          "name": "stdout",
          "text": [
            "   0\n",
            "0  1\n",
            "1  2\n",
            "2  3\n",
            "   Unnamed: 0  0\n",
            "0           0  1\n",
            "1           1  2\n",
            "2           2  3\n"
          ]
        }
      ]
    },
    {
      "cell_type": "code",
      "source": [
        "model = nn.Sequential()\n",
        "model.append(nn.Linear(3, 64))\n",
        "model.append(nn.ReLU())\n",
        "model.append(nn.Linear(64, 8))\n",
        "\n",
        "# Save the entire model\n",
        "torch.save(model, 'model.h5')\n",
        "# Load the entire model\n",
        "model2 = torch.load('model.h5')\n",
        "\n",
        "# Save just the model weights\n",
        "torch.save(model.state_dict(), \"model_weights.h5\")\n",
        "\n",
        "# Build a new model\n",
        "model3 = nn.Sequential()\n",
        "model3.append(nn.Linear(3, 64))\n",
        "model3.append(nn.ReLU())\n",
        "model3.append(nn.Linear(64, 8))\n",
        "\n",
        "# Load weights for model from h5 file\n",
        "model3.load_state_dict(torch.load('model_weights.h5'))\n",
        "\n",
        "print(model)\n",
        "print(model2)\n",
        "print(model3) # This will have a different return since it's"
      ],
      "metadata": {
        "colab": {
          "base_uri": "https://localhost:8080/"
        },
        "id": "InL_VsOweWjZ",
        "outputId": "eff218bf-6c0b-4f5a-ae8f-d7726415a3a6"
      },
      "execution_count": 5,
      "outputs": [
        {
          "output_type": "stream",
          "name": "stdout",
          "text": [
            "Sequential(\n",
            "  (0): Linear(in_features=3, out_features=64, bias=True)\n",
            "  (1): ReLU()\n",
            "  (2): Linear(in_features=64, out_features=8, bias=True)\n",
            ")\n",
            "Sequential(\n",
            "  (0): Linear(in_features=3, out_features=64, bias=True)\n",
            "  (1): ReLU()\n",
            "  (2): Linear(in_features=64, out_features=8, bias=True)\n",
            ")\n",
            "Sequential(\n",
            "  (0): Linear(in_features=3, out_features=64, bias=True)\n",
            "  (1): ReLU()\n",
            "  (2): Linear(in_features=64, out_features=8, bias=True)\n",
            ")\n"
          ]
        },
        {
          "output_type": "stream",
          "name": "stderr",
          "text": [
            "<ipython-input-5-aecbe9a53ed0>:9: FutureWarning: You are using `torch.load` with `weights_only=False` (the current default value), which uses the default pickle module implicitly. It is possible to construct malicious pickle data which will execute arbitrary code during unpickling (See https://github.com/pytorch/pytorch/blob/main/SECURITY.md#untrusted-models for more details). In a future release, the default value for `weights_only` will be flipped to `True`. This limits the functions that could be executed during unpickling. Arbitrary objects will no longer be allowed to be loaded via this mode unless they are explicitly allowlisted by the user via `torch.serialization.add_safe_globals`. We recommend you start setting `weights_only=True` for any use case where you don't have full control of the loaded file. Please open an issue on GitHub for any issues related to this experimental feature.\n",
            "  model2 = torch.load('model.h5')\n",
            "<ipython-input-5-aecbe9a53ed0>:21: FutureWarning: You are using `torch.load` with `weights_only=False` (the current default value), which uses the default pickle module implicitly. It is possible to construct malicious pickle data which will execute arbitrary code during unpickling (See https://github.com/pytorch/pytorch/blob/main/SECURITY.md#untrusted-models for more details). In a future release, the default value for `weights_only` will be flipped to `True`. This limits the functions that could be executed during unpickling. Arbitrary objects will no longer be allowed to be loaded via this mode unless they are explicitly allowlisted by the user via `torch.serialization.add_safe_globals`. We recommend you start setting `weights_only=True` for any use case where you don't have full control of the loaded file. Please open an issue on GitHub for any issues related to this experimental feature.\n",
            "  model3.load_state_dict(torch.load('model_weights.h5'))\n"
          ]
        }
      ]
    },
    {
      "cell_type": "markdown",
      "source": [
        "## Step 3: Saving general python files using pickle\n",
        "\n",
        "Pickle is a compression and storage protocol for python. It can be used <br>\n",
        "for general python objects. Note: it is easy to overwrite your files <br>\n",
        "using pickle so you should be especially careful with 'wb' (write) vs <br> 'rb' (read)."
      ],
      "metadata": {
        "id": "5p3tVsyOfO2j"
      }
    },
    {
      "cell_type": "code",
      "source": [
        "import pickle as pkl\n",
        "import numpy as np"
      ],
      "metadata": {
        "id": "2WQdiYIQfsbv"
      },
      "execution_count": 6,
      "outputs": []
    },
    {
      "cell_type": "code",
      "source": [
        "array = np.array((1,2,3))\n",
        "pkl.dump(array, open('array.p', 'wb'))\n",
        "print(array)\n",
        "array2 = pkl.load(open('array.p', 'rb'))\n",
        "print(array2)"
      ],
      "metadata": {
        "colab": {
          "base_uri": "https://localhost:8080/"
        },
        "id": "w0gxCTE-ft5m",
        "outputId": "3d179552-4fd6-4f9a-a7de-815f3fa6b7cd"
      },
      "execution_count": 7,
      "outputs": [
        {
          "output_type": "stream",
          "name": "stdout",
          "text": [
            "[1 2 3]\n",
            "[1 2 3]\n"
          ]
        }
      ]
    }
  ]
}